{
 "cells": [
  {
   "cell_type": "markdown",
   "metadata": {},
   "source": [
    "# Sparse Score Fusion for Classifying Mate Pairs of Images\n",
    "\n",
    "\n",
    "## Introduction\n",
    "\n",
    "###  Challenge MDI343 2017-2018\n",
    "#### Authors :  Umut Şimşekli & Stéphane Gentric\n",
    "\n",
    "\n",
    "The topic of this challenge will be determining if two images belong to the same person or not. Conventionally, in order to solve this task, one typically builds an algorithm to provide a \"score\" for a given image pair. If the value of the score is high, it means that it is more probable that these images belong to the same person. Then, by using this score, one can determine if the images belong to the same person, by simply thresholding it.   \n",
    "\n",
    "The goal of this challenge is to build a system for determining if two images belong to the same person or not by \"fusing\" multiple algorithms. In particular, for a given image pair, you will be provided the scores obtained from **14** different algorithms, each of which has a different computational complexity.   \n",
    "\n",
    "Then the aim is to combine the scores of these algorithms (in a way that will be described in the sequel) in order to obtain a better classification accuracy. However, there will be a strict **computational budget**, such the running times of the algorithms that you combine **cannot exceed a certain time threshold**. For example, let $t_i$ denote the running time of algorithm $i$ in milliseconds ($i = 1,\\dots,14$). Then, you will be given a threshold, $T$, such that the total computational time of the algorithms that you combine will not exceed $T$: \n",
    "\n",
    "$\n",
    "\\sum_{i\\in C} t_i \\leq T,\n",
    "$\n",
    "\n",
    "where $C \\subset \\{1,\\dots,14\\}$ is the set of algorithms that you choose to combine. The idea in such fusion is that \"combining several fast algorithms might be better than using a single slow (possible more complex) algorithm\". \n",
    "\n",
    "Before we describe how the fusion will be done, let us introduce the data:\n",
    "\n",
    "**Training data:**\n",
    "\n",
    "There will be $N= 2048853$ image pairs in the dataset. For a given image pair $n \\in \\{1,\\dots,N\\}$, we define $y_n = 1$ if this image pair belongs to the same person, or $y_n=0$ otherwise.\n",
    "\n",
    "We then define a vector of scores for each image pair, $s_n \\in \\mathbb{R}_+^{14}$, such that $i$th component of $s_n$ will encode the score obtained by the $i$th algorithm, for the given image pair.  \n",
    "\n",
    "**Test data:**\n",
    "\n",
    "The test data contain $N_\\text{test} = 170738$ image pairs. Similarly to the training data, each image pair contains a label and a vector of scores that are obtained from $14$ different algorithms. The test data will not be provided.\n",
    "\n",
    "\n",
    "## Fusion Method \n",
    "\n",
    "In this challenge, you are expected to build a fusion system that is given as follows. Given a score vector $s \\in \\mathbb{R}_+^{14}$, we first define an extended vector $s'$, by appending a $1$ in the beginning of the original vector $s\\in \\mathbb{R}_+^{15}$: $s' = [1, s]$. Then we use the following fusion scheme in order to obtain the combined score $\\hat{s}$: \n",
    "\n",
    "$\n",
    "\\hat{s} = s'^\\top M s' \n",
    "$\n",
    "\n",
    "where $M \\in \\mathbb{R}^{15 \\times 15}$, is the \"fusion matrix\". This matrix will enable you to combine the scores of the different algorithms in a linear or a quadratic way. \n",
    "\n",
    "\n",
    "## The goal and the performance criterion\n",
    "\n",
    "In this challenge, we will use an evaluation metric, which is commonly used in biometrics, namely the False Recognition Rate (FRR) at a fixed False Acceptance Rate (FAR). **The lower the better.**\n",
    "\n",
    "The definitions of these quantities are as follows: (definitions from Webopedia)\n",
    "\n",
    "**The false acceptance rate**, or **FAR**, is the measure of the likelihood that the biometric security system will incorrectly accept an access attempt by an unauthorized user. A system’s FAR typically is stated as the ratio of the number of false acceptances divided by the number of identification attempts.\n",
    "\n",
    "**The false recognition rate**, or **FRR**, is the measure of the likelihood that the biometric security system will incorrectly reject an access attempt by an authorized user. A system’s FRR typically is stated as the ratio of the number of false recognitions divided by the number of identification attempts.\n",
    "\n",
    "In this challenge, we will use the following evaluation scheme:\n",
    "\n",
    "1) Given the scores, find a threshold that will give an FAR 0.01 %\n",
    "\n",
    "2) Given the threshold, compute the FRR\n",
    "\n",
    "The overall metric will be called **\"the FRR at 0.01% FAR\"**.\n",
    "\n",
    "\n",
    "# Training Data\n",
    "\n",
    "https://www.dropbox.com/s/6it6v6ifqkwuz98/train15_telecom.txt?dl=0\n"
   ]
  },
  {
   "cell_type": "markdown",
   "metadata": {},
   "source": [
    "# Example Submission"
   ]
  },
  {
   "cell_type": "code",
   "execution_count": 17,
   "metadata": {},
   "outputs": [],
   "source": [
    "%matplotlib inline\n",
    "import numpy as np\n",
    "import matplotlib.pyplot as plt\n",
    "import pandas as pd\n",
    "\n",
    "\n",
    "# Running time of each algorithm (in milliseconds)\n",
    "alg_times = np.zeros((14,1))\n",
    "alg_times[0] = 163\n",
    "alg_times[1] = 163\n",
    "alg_times[2] = 190\n",
    "alg_times[3] = 190\n",
    "alg_times[4] = 206\n",
    "alg_times[5] = 206\n",
    "alg_times[6] = 120\n",
    "alg_times[7] = 120\n",
    "alg_times[8] = 83\n",
    "alg_times[9] = 83\n",
    "alg_times[10] = 83\n",
    "alg_times[11] = 83\n",
    "alg_times[12] = 170\n",
    "alg_times[13] = 170\n",
    "\n",
    "# Time constraint: The total duration of the algorithms cannot exceed 600 milliseconds\n",
    "alg_time_thr = 600\n",
    "\n",
    "\n",
    "# Compute the total computational time for the fusion algorithm\n",
    "def compute_total_time(M):\n",
    "    is_used = np.zeros((14,1))\n",
    "    for i in range(15):\n",
    "        for j in range(15):\n",
    "            if(M[i,j] != 0):\n",
    "                if(i>=1):\n",
    "                    is_used[i-1] = 1\n",
    "                if(j>=1):\n",
    "                    is_used[j-1] = 1\n",
    "\n",
    "    total_dur = np.dot(is_used.T,alg_times)\n",
    "    return total_dur[0,0]\n",
    "\n",
    "# Evaluation metric\n",
    "def compute_eval(fused_score):\n",
    "    look_at_FAR = 0.0001\n",
    "    # calculating FAR and FRR\n",
    "    sort = np.argsort(fused_score[:,1])\n",
    "\n",
    "    #sort = np.concatenate([sort[-2:],sort[:-2]], axis=0)\n",
    "    scores = fused_score[sort]\n",
    "    totpos = sum(scores[:,0])\n",
    "    totneg = scores.shape[0]-totpos\n",
    "    fa = (np.cumsum(scores[:,0]-1)+totneg)/totneg\n",
    "    fr = np.cumsum(scores[:,0])/totpos\n",
    "\n",
    "    i=0\n",
    "    while fa[i]>look_at_FAR:\n",
    "        i+=1\n",
    "\n",
    "    return scores[i][1], fa[i], fr[i]\n"
   ]
  },
  {
   "cell_type": "code",
   "execution_count": 2,
   "metadata": {},
   "outputs": [],
   "source": [
    "# Load the data\n",
    "\n",
    "train_fname = 'train15_telecom.txt'\n",
    "train_data = np.loadtxt(train_fname, dtype=np.float) #The first column contains the labels, the rest of the columns contains the scores\n",
    "\n",
    "# Extract the labels\n",
    "y_trn = train_data[:,0].astype(int)\n",
    "\n",
    "# Extract the score vectors\n",
    "s_trn = train_data.copy()\n",
    "# Put a 1 in front of all the scores (see the \"Fusion method\" section above)\n",
    "s_trn[:,0] = 1;"
   ]
  },
  {
   "cell_type": "code",
   "execution_count": 29,
   "metadata": {},
   "outputs": [
    {
     "name": "stdout",
     "output_type": "stream",
     "text": [
      "543.0\n",
      "The total running time of the fusion is acceptable!\n"
     ]
    }
   ],
   "source": [
    "#Prepare a fusion matrix\n",
    "M = np.zeros((15,15))\n",
    "\n",
    "#Example: the matrix will only average the first and the third algorithms:\n",
    "M[0,1] = 0.5\n",
    "M[0,3] = 0.5\n",
    " \n",
    "#Example: Make the fusion for the first image pair:\n",
    "cur_s = s_trn[0]\n",
    "cur_s_hat = np.dot(cur_s.T,np.dot(M,cur_s)) \n",
    "\n",
    "#Check if the time constraint is satisfied:\n",
    "\n",
    "tot_dur = compute_total_time(M)\n",
    "print tot_dur\n",
    "\n",
    "if(tot_dur <= alg_time_thr):\n",
    "    print \"The total running time of the fusion is acceptable!\"\n",
    "else:\n",
    "    print \"The total running time of the fusion is NOT acceptable!\"\n"
   ]
  },
  {
   "cell_type": "code",
   "execution_count": 21,
   "metadata": {
    "scrolled": true
   },
   "outputs": [
    {
     "name": "stdout",
     "output_type": "stream",
     "text": [
      "Score at FAR=0.01%\n",
      "threshold : 4879.43 far : 9.9610468009e-05 frr : 0.215112294649\n"
     ]
    }
   ],
   "source": [
    "#Evaluation\n",
    "\n",
    "#apply fusion on scores  \n",
    "fuse = np.multiply(s_trn[:,None,:]*s_trn[:,:,None], M)\n",
    "fuse = np.concatenate([np.reshape(y_trn, [-1,1]), np.reshape(np.sum(fuse, axis=(1,2)), [-1,1])], axis=1)\n",
    "fuse[np.isnan(fuse)]=-float(\"inf\")\n",
    "\n",
    "#compute the FRR at FAR = 0.01%\n",
    "thr, fa, fr = compute_eval(fuse)\n",
    "\n",
    "print \"Score at FAR=\"+str(look_at_FAR*100.0)+\"%\"\n",
    "print \"threshold :\", thr, \"far :\",fa, \"frr :\", fr\n"
   ]
  },
  {
   "cell_type": "code",
   "execution_count": 30,
   "metadata": {},
   "outputs": [],
   "source": [
    "#Submission\n",
    "\n",
    "#Write the matrix M to the disk:\n",
    "np.savetxt('M_pred.txt', M, fmt='%f')\n",
    "\n"
   ]
  },
  {
   "cell_type": "markdown",
   "metadata": {},
   "source": [
    "Now, you can submit score_pred.txt to the challenge website.\n",
    "\n",
    "Bonne chance !"
   ]
  },
  {
   "cell_type": "code",
   "execution_count": null,
   "metadata": {
    "collapsed": true
   },
   "outputs": [],
   "source": []
  }
 ],
 "metadata": {
  "anaconda-cloud": {},
  "kernelspec": {
   "display_name": "Python 2",
   "language": "python",
   "name": "python2"
  },
  "language_info": {
   "codemirror_mode": {
    "name": "ipython",
    "version": 2
   },
   "file_extension": ".py",
   "mimetype": "text/x-python",
   "name": "python",
   "nbconvert_exporter": "python",
   "pygments_lexer": "ipython2",
   "version": "2.7.14"
  }
 },
 "nbformat": 4,
 "nbformat_minor": 1
}
