{
 "cells": [
  {
   "cell_type": "markdown",
   "metadata": {},
   "source": [
    "# CHALLENGE - MDI343\n",
    "# Christophe Thibault - Mastère BigData"
   ]
  },
  {
   "cell_type": "markdown",
   "metadata": {},
   "source": [
    "## Méthodologie suivie\n",
    "#### Dans cette partie, j'explique la méthodologie suivie. Il y a aussi des commentaires dans le notebook."
   ]
  },
  {
   "cell_type": "markdown",
   "metadata": {},
   "source": [
    "#### Pour ce challenge, deux stratégies ont été mises en place. La première consiste à étudier les données, notamment les densités de probabilités des scores pour chacun des algorithmes. L'idée sous-jacente est de dire qu'il faudrait une combinaison d'algorithmes qui soient complémentaires, pour que leur association soit la plus efficace possible. Deux algorithmes qui donnent les mêmes distributions de scores sont redondants (hypothèse). Autre hypothèse, ils se renforcent peut-être... \n",
    "#### La deuxième stratégie est de trouver la meilleure combinaison minimisant le FRR (False Recognition Rate). La fonction va tester toutes les combinaisons (limitées à 4 ou 5 algorithmes à cause de la contrainte de temps) et nous donner la combinaison de features qui minimise le FRR. \n",
    "#### Une fois que j'aurai déterminé quelques combinaisons, on cherchera le poids des intéractions entre features grâce à des méthodes types gradientBoosting, RandomForest, etc. Deux possibilités s'offrent à nous : on cherche seulement une combinaison linéaire entre les features, soit on cherche des intéractions quadratiques (polynome de degré 2) entre ces mêmes features.  \n",
    "\n",
    "#### Première méthode : dans un premier temps, j'ai déterminé la matrice de corrélation entre les 14 algorithmes proposés par le challenge. On remarque que certains features sont assez peu corrélés, ce qui nous permet de dégager déjà une première sélection de variables. Il s'agit des algorithmes 8, 9, 10, 11, et 12. L'algorithme 14 semble être peu corrélé avec le 11 et le 12. Voilà ce que nous indique comme informations la matrice de corrélation. En traçant les densités de probabilités, on remarque que certaines distributions sont identiques. Par exemple, les distributions des algorithmes 8 et 14 sont quasi-semblables.  Nous devons passer par une phase de réduction de features. La PCA semble difficile à exploiter. J'ai tenté ensuite la méthode REF, Recurcive Feature Elimination, limitée à 5 features, pour le garder que les cinqs principales. Il en ressort que les features les plus importantes seraient : 7 - 8 - 9 -10 - 14. J'ai essayé d'autres méthodes de sélection de features comme chercher les feature_importances sur tout le jeu de données avec un Random Forest, et une sélection KBest sur cinqs features. Dans le premier cas, le résultat nous donne : 9 - 10 - 13 - 14 (voire 11 - 8). Dans le deuxième cas (KBest), on a : 3 - 7 - 9 - 11 - 13. L'apparition de l'algorithme 3 est assez surprenant car il n'apparait jamais dans les autres tests, et son temps d'execution est de plus assez long (190ms). Ensuite j'ai pris trois combinaisons : 7-9-11-13 avec un PolynomialFeatures (de degré 2), puis un GradientBoosting(pour trouver les features importances) -- combinaison 8-9-10-11-13 avec un PolynomialFeatures (degré=2), et un GradientBoosting -- et la combinaison 8-9-10-11-14 avec un PolynomialFeatures (de degré 2), puis linéaire, avec un AdaBoost dans les deux cas. C'est la dernière combinaison qui donne le meilleur résultat une fois testée sur le jeu de test inconnu. \n",
    "#### Deuxième méthode : il s'agit dans ce cas de déterminer la meilleure combinaison (parmi les 14 features) de features qui minimise la valeur du FRR. On fait toutes les combinaisons de features, avec un maximum de cinqs (contrainte de temps limitée à 600ms), et on prend celle qui minimise le FRR. On trouve finalement la combinaison 8 - 9 - 10 - 11- 14. Ensuite on peut faire soit un gradientBoosting ou un adaBoost pour déterminer les coefficients (Feature Importances), que les intéractions soient quadratiques ou linéaires. A priori, la combinaison linéaire entre features donne de meilleurs résultats. On obtient un score de 0.0638195777351, ce qui est mon meilleur score à ce challenge. "
   ]
  },
  {
   "cell_type": "markdown",
   "metadata": {},
   "source": [
    "# Données et processing"
   ]
  },
  {
   "cell_type": "code",
   "execution_count": 1,
   "metadata": {},
   "outputs": [],
   "source": [
    "%matplotlib inline\n",
    "import numpy as np\n",
    "import matplotlib.pyplot as plt\n",
    "import pandas as pd\n",
    "\n",
    "\n",
    "# Running time of each algorithm (in milliseconds)\n",
    "alg_times = np.zeros((14,1))\n",
    "alg_times[0] = 163\n",
    "alg_times[1] = 163\n",
    "alg_times[2] = 190\n",
    "alg_times[3] = 190\n",
    "alg_times[4] = 206\n",
    "alg_times[5] = 206\n",
    "alg_times[6] = 120\n",
    "alg_times[7] = 120\n",
    "alg_times[8] = 83\n",
    "alg_times[9] = 83\n",
    "alg_times[10] = 83\n",
    "alg_times[11] = 83\n",
    "alg_times[12] = 170\n",
    "alg_times[13] = 170\n",
    "\n",
    "# Time constraint: The total duration of the algorithms cannot exceed 600 milliseconds\n",
    "alg_time_thr = 600\n",
    "\n",
    "\n",
    "# Compute the total computational time for the fusion algorithm\n",
    "def compute_total_time(M):\n",
    "    is_used = np.zeros((14,1))\n",
    "    for i in range(15):\n",
    "        for j in range(15):\n",
    "            if(M[i,j] != 0):\n",
    "                if(i>=1):\n",
    "                    is_used[i-1] = 1\n",
    "                if(j>=1):\n",
    "                    is_used[j-1] = 1\n",
    "\n",
    "    total_dur = np.dot(is_used.T,alg_times)\n",
    "    return total_dur[0,0]\n",
    "\n",
    "# Evaluation metric\n",
    "def compute_eval(fused_score):\n",
    "    look_at_FAR = 0.0001\n",
    "    # calculating FAR and FRR\n",
    "    sort = np.argsort(fused_score[:,1])\n",
    "\n",
    "    #sort = np.concatenate([sort[-2:],sort[:-2]], axis=0)\n",
    "    scores = fused_score[sort]\n",
    "    totpos = sum(scores[:,0])\n",
    "    totneg = scores.shape[0]-totpos\n",
    "    fa = (np.cumsum(scores[:,0]-1)+totneg)/totneg\n",
    "    fr = np.cumsum(scores[:,0])/totpos\n",
    "\n",
    "    i=0\n",
    "    while fa[i]>look_at_FAR:\n",
    "        i+=1\n",
    "\n",
    "    return scores[i][1], fa[i], fr[i]\n"
   ]
  },
  {
   "cell_type": "code",
   "execution_count": 2,
   "metadata": {},
   "outputs": [],
   "source": [
    "# Load the data\n",
    "\n",
    "train_fname = 'train15_telecom.txt'\n",
    "train_data = np.loadtxt(train_fname, dtype=np.float) #The first column contains the labels, the rest of the columns contains the scores\n",
    "\n",
    "# Extract the labels\n",
    "y_trn = train_data[:,0].astype(int)\n",
    "\n",
    "# Extract the score vectors\n",
    "s_trn = train_data.copy()\n",
    "# Put a 1 in front of all the scores (see the \"Fusion method\" section above)\n",
    "s_trn[:,0] = 1;"
   ]
  },
  {
   "cell_type": "code",
   "execution_count": 6,
   "metadata": {},
   "outputs": [
    {
     "data": {
      "text/html": [
       "<div>\n",
       "<style scoped>\n",
       "    .dataframe tbody tr th:only-of-type {\n",
       "        vertical-align: middle;\n",
       "    }\n",
       "\n",
       "    .dataframe tbody tr th {\n",
       "        vertical-align: top;\n",
       "    }\n",
       "\n",
       "    .dataframe thead th {\n",
       "        text-align: right;\n",
       "    }\n",
       "</style>\n",
       "<table border=\"1\" class=\"dataframe\">\n",
       "  <thead>\n",
       "    <tr style=\"text-align: right;\">\n",
       "      <th></th>\n",
       "      <th>0</th>\n",
       "      <th>1</th>\n",
       "      <th>2</th>\n",
       "      <th>3</th>\n",
       "      <th>4</th>\n",
       "      <th>5</th>\n",
       "      <th>6</th>\n",
       "      <th>7</th>\n",
       "      <th>8</th>\n",
       "      <th>9</th>\n",
       "      <th>10</th>\n",
       "      <th>11</th>\n",
       "      <th>12</th>\n",
       "      <th>13</th>\n",
       "      <th>14</th>\n",
       "    </tr>\n",
       "  </thead>\n",
       "  <tbody>\n",
       "    <tr>\n",
       "      <th>0</th>\n",
       "      <td>1.0</td>\n",
       "      <td>4056.64</td>\n",
       "      <td>4329.06</td>\n",
       "      <td>4258.26</td>\n",
       "      <td>4487.92</td>\n",
       "      <td>4438.95</td>\n",
       "      <td>4624.01</td>\n",
       "      <td>4295.81</td>\n",
       "      <td>4516.67</td>\n",
       "      <td>5566.92</td>\n",
       "      <td>5365.55</td>\n",
       "      <td>3534.17</td>\n",
       "      <td>3877.52</td>\n",
       "      <td>4933.86</td>\n",
       "      <td>4970.20</td>\n",
       "    </tr>\n",
       "    <tr>\n",
       "      <th>1</th>\n",
       "      <td>0.0</td>\n",
       "      <td>2284.19</td>\n",
       "      <td>2448.09</td>\n",
       "      <td>2148.12</td>\n",
       "      <td>2246.95</td>\n",
       "      <td>2379.43</td>\n",
       "      <td>2581.86</td>\n",
       "      <td>2530.12</td>\n",
       "      <td>2782.97</td>\n",
       "      <td>2397.09</td>\n",
       "      <td>2606.08</td>\n",
       "      <td>1906.96</td>\n",
       "      <td>1856.95</td>\n",
       "      <td>2743.85</td>\n",
       "      <td>3048.56</td>\n",
       "    </tr>\n",
       "    <tr>\n",
       "      <th>2</th>\n",
       "      <td>0.0</td>\n",
       "      <td>2158.96</td>\n",
       "      <td>2263.43</td>\n",
       "      <td>2369.36</td>\n",
       "      <td>2567.98</td>\n",
       "      <td>2385.78</td>\n",
       "      <td>2590.60</td>\n",
       "      <td>2320.31</td>\n",
       "      <td>2499.47</td>\n",
       "      <td>2155.66</td>\n",
       "      <td>2258.41</td>\n",
       "      <td>1938.28</td>\n",
       "      <td>1910.30</td>\n",
       "      <td>2837.74</td>\n",
       "      <td>3158.75</td>\n",
       "    </tr>\n",
       "    <tr>\n",
       "      <th>3</th>\n",
       "      <td>0.0</td>\n",
       "      <td>2257.80</td>\n",
       "      <td>2410.03</td>\n",
       "      <td>2297.49</td>\n",
       "      <td>2467.10</td>\n",
       "      <td>2280.85</td>\n",
       "      <td>2443.30</td>\n",
       "      <td>2293.67</td>\n",
       "      <td>2461.65</td>\n",
       "      <td>2200.40</td>\n",
       "      <td>2325.69</td>\n",
       "      <td>1989.81</td>\n",
       "      <td>1996.23</td>\n",
       "      <td>2548.51</td>\n",
       "      <td>2806.69</td>\n",
       "    </tr>\n",
       "    <tr>\n",
       "      <th>4</th>\n",
       "      <td>0.0</td>\n",
       "      <td>2094.92</td>\n",
       "      <td>2164.81</td>\n",
       "      <td>1830.91</td>\n",
       "      <td>1723.67</td>\n",
       "      <td>2239.55</td>\n",
       "      <td>2383.45</td>\n",
       "      <td>2038.94</td>\n",
       "      <td>2076.11</td>\n",
       "      <td>2465.04</td>\n",
       "      <td>2697.64</td>\n",
       "      <td>1617.28</td>\n",
       "      <td>1317.34</td>\n",
       "      <td>2802.02</td>\n",
       "      <td>3117.27</td>\n",
       "    </tr>\n",
       "  </tbody>\n",
       "</table>\n",
       "</div>"
      ],
      "text/plain": [
       "    0        1        2        3        4        5        6        7   \\\n",
       "0  1.0  4056.64  4329.06  4258.26  4487.92  4438.95  4624.01  4295.81   \n",
       "1  0.0  2284.19  2448.09  2148.12  2246.95  2379.43  2581.86  2530.12   \n",
       "2  0.0  2158.96  2263.43  2369.36  2567.98  2385.78  2590.60  2320.31   \n",
       "3  0.0  2257.80  2410.03  2297.49  2467.10  2280.85  2443.30  2293.67   \n",
       "4  0.0  2094.92  2164.81  1830.91  1723.67  2239.55  2383.45  2038.94   \n",
       "\n",
       "        8        9        10       11       12       13       14  \n",
       "0  4516.67  5566.92  5365.55  3534.17  3877.52  4933.86  4970.20  \n",
       "1  2782.97  2397.09  2606.08  1906.96  1856.95  2743.85  3048.56  \n",
       "2  2499.47  2155.66  2258.41  1938.28  1910.30  2837.74  3158.75  \n",
       "3  2461.65  2200.40  2325.69  1989.81  1996.23  2548.51  2806.69  \n",
       "4  2076.11  2465.04  2697.64  1617.28  1317.34  2802.02  3117.27  "
      ]
     },
     "execution_count": 6,
     "metadata": {},
     "output_type": "execute_result"
    }
   ],
   "source": [
    "train = pd.DataFrame(train_data)\n",
    "train = train.replace([np.inf, -np.inf], np.nan)\n",
    "train = train.dropna()\n",
    "train.head()\n"
   ]
  },
  {
   "cell_type": "code",
   "execution_count": 4,
   "metadata": {},
   "outputs": [
    {
     "data": {
      "text/plain": [
       "<matplotlib.axes._subplots.AxesSubplot at 0x1154747b8>"
      ]
     },
     "execution_count": 4,
     "metadata": {},
     "output_type": "execute_result"
    },
    {
     "data": {
      "image/png": "[encoded data removed]",
      "text/plain": [
       "<matplotlib.figure.Figure at 0x10929d898>"
      ]
     },
     "metadata": {},
     "output_type": "display_data"
    }
   ],
   "source": [
    "import random\n",
    "import matplotlib.pyplot as plt\n",
    "import seaborn as sns\n",
    "f, ax = plt.subplots(figsize=(10, 8))\n",
    "corr = train.corr()\n",
    "sns.heatmap(corr, mask=np.zeros_like(corr, dtype=np.bool), cmap=sns.diverging_palette(220, 10, as_cmap=True),\n",
    "           square=True, ax=ax)"
   ]
  },
  {
   "cell_type": "markdown",
   "metadata": {},
   "source": [
    "#### La matrice de corrélation nous indique quelles variables sont susceptibles d'être corrélées entre elles. On remarque dans ce cas, que certaines variables sont non voire peu corrélées. Ce sont les algorithmes 9, 10, 11, 12, voire le 8."
   ]
  },
  {
   "cell_type": "markdown",
   "metadata": {},
   "source": [
    "## Densités de probabilité"
   ]
  },
  {
   "cell_type": "markdown",
   "metadata": {},
   "source": [
    "#### Nous allons représenter ci-dessous leurs densités de probabilités (feature: 8, 9, 10, 11, 12)"
   ]
  },
  {
   "cell_type": "code",
   "execution_count": 5,
   "metadata": {},
   "outputs": [
    {
     "data": {
      "text/plain": [
       "<matplotlib.axes._subplots.AxesSubplot at 0x1155a5978>"
      ]
     },
     "execution_count": 5,
     "metadata": {},
     "output_type": "execute_result"
    },
    {
     "data": {
      "image/png": "[encoded data removed]",
      "text/plain": [
       "<matplotlib.figure.Figure at 0x1155995f8>"
      ]
     },
     "metadata": {},
     "output_type": "display_data"
    }
   ],
   "source": [
    "# représentation densité de probabilité\n",
    "sns.set(rc={\"figure.figsize\": (12, 8)})\n",
    "ax = sns.kdeplot(train[8], shade=True, color=\"r\")\n",
    "sns.kdeplot(train[9], ax=ax, shade=True, color=\"b\")\n",
    "sns.kdeplot(train[10], ax=ax, shade=True, color=\"c\")\n",
    "sns.kdeplot(train[11], ax=ax, shade=True, color=\"g\")\n",
    "sns.kdeplot(train[12], ax=ax, shade=True, color=\"m\")"
   ]
  },
  {
   "cell_type": "markdown",
   "metadata": {},
   "source": [
    "#### On remarque que les algorithmes donnent tous des résultats assez différents, ce qui est le but recherché. Et par comparaison, les densités de probabilités des features 1, 2, 3, 4, et 5"
   ]
  },
  {
   "cell_type": "code",
   "execution_count": 6,
   "metadata": {},
   "outputs": [
    {
     "data": {
      "text/plain": [
       "<matplotlib.axes._subplots.AxesSubplot at 0x117684908>"
      ]
     },
     "execution_count": 6,
     "metadata": {},
     "output_type": "execute_result"
    },
    {
     "data": {
      "image/png": "[encoded data removed]",
      "text/plain": [
       "<matplotlib.figure.Figure at 0x1176c9358>"
      ]
     },
     "metadata": {},
     "output_type": "display_data"
    }
   ],
   "source": [
    "import random\n",
    "import matplotlib.pyplot as plt\n",
    "import seaborn as sns\n",
    "sns.set(rc={\"figure.figsize\": (12, 8)})\n",
    "ax = sns.kdeplot(train[1], shade=True, color=\"r\")\n",
    "sns.kdeplot(train[2], ax=ax, shade=True, color=\"b\")\n",
    "sns.kdeplot(train[3], ax=ax, shade=True, color=\"c\")\n",
    "sns.kdeplot(train[4], ax=ax, shade=True, color=\"g\")\n",
    "sns.kdeplot(train[5], ax=ax, shade=True, color=\"m\")"
   ]
  },
  {
   "cell_type": "code",
   "execution_count": 8,
   "metadata": {},
   "outputs": [],
   "source": [
    "array = train.values\n",
    "X = array[:,1:15]\n",
    "y = array[:,0]"
   ]
  },
  {
   "cell_type": "code",
   "execution_count": 9,
   "metadata": {},
   "outputs": [
    {
     "data": {
      "text/plain": [
       "(2048840, 14)"
      ]
     },
     "execution_count": 9,
     "metadata": {},
     "output_type": "execute_result"
    }
   ],
   "source": [
    "import numpy as np\n",
    "#X_corr = np.corrcoef(X)\n",
    "X.shape"
   ]
  },
  {
   "cell_type": "code",
   "execution_count": 9,
   "metadata": {},
   "outputs": [
    {
     "data": {
      "text/plain": [
       "(2048840, 4)"
      ]
     },
     "execution_count": 9,
     "metadata": {},
     "output_type": "execute_result"
    }
   ],
   "source": [
    "X_red = np.array([X[:,7],X[:,8],X[:,9], X[:,10]]).reshape(2048840,4)\n",
    "X_red.shape"
   ]
  },
  {
   "cell_type": "markdown",
   "metadata": {},
   "source": [
    "# PCA"
   ]
  },
  {
   "cell_type": "code",
   "execution_count": 10,
   "metadata": {},
   "outputs": [
    {
     "name": "stdout",
     "output_type": "stream",
     "text": [
      "[ 0.83743991  0.05339478  0.03441165  0.02650192  0.01845481]\n",
      "[ 3695104.63241727   933037.93855273   749035.97135523   657337.79097481\n",
      "   548535.39716983]\n"
     ]
    }
   ],
   "source": [
    "from sklearn.decomposition import PCA\n",
    "pca = PCA(n_components=5)\n",
    "XX = pca.fit(X)\n",
    "print(pca.explained_variance_ratio_)\n",
    "print(pca.singular_values_)"
   ]
  },
  {
   "cell_type": "markdown",
   "metadata": {},
   "source": [
    "#### L'analyse en PCA ne nous aide pas vraiment pour réduire la dimension de l'étude. Nous allons essayer un REF (Recurcive Feature Elimination) sur nos données et ne prendre en compte que les cinqs principales."
   ]
  },
  {
   "cell_type": "markdown",
   "metadata": {},
   "source": [
    "# Recurcive Feature Elimination (REF)"
   ]
  },
  {
   "cell_type": "code",
   "execution_count": 12,
   "metadata": {},
   "outputs": [
    {
     "name": "stdout",
     "output_type": "stream",
     "text": [
      "[False False False False False False  True  True  True  True False False\n",
      " False  True]\n",
      "[ 5 10  3  8  7  9  1  1  1  1  2  6  4  1]\n"
     ]
    }
   ],
   "source": [
    "from sklearn.ensemble import RandomForestClassifier\n",
    "from sklearn.feature_selection import RFE\n",
    "rfc = RandomForestClassifier()\n",
    " \n",
    "# create the RFE model and select 4 attributes\n",
    "rfe_model = RFE(rfc, 5, step=1)\n",
    "rfe_model = rfe_model.fit(X, y)\n",
    " \n",
    "# summarize the selection of the attributes\n",
    "print(rfe_model.support_)\n",
    "print(rfe_model.ranking_)"
   ]
  },
  {
   "cell_type": "code",
   "execution_count": 13,
   "metadata": {},
   "outputs": [
    {
     "data": {
      "image/png": "[encoded data removed]",
      "text/plain": [
       "<matplotlib.figure.Figure at 0x118c5bba8>"
      ]
     },
     "metadata": {},
     "output_type": "display_data"
    }
   ],
   "source": [
    "# visualize the selected features:\n",
    "mask = rfe_model.get_support()\n",
    "plt.matshow(mask.reshape(1, -1), cmap='gray_r')\n",
    "plt.xlabel(\"Sample index\");"
   ]
  },
  {
   "cell_type": "markdown",
   "metadata": {},
   "source": [
    "#### En conclusion, il semble que les features qui ont le plus d'importance sont : 7, 8, 9, 10, et 14"
   ]
  },
  {
   "cell_type": "code",
   "execution_count": 14,
   "metadata": {},
   "outputs": [
    {
     "data": {
      "text/plain": [
       "<matplotlib.axes._subplots.AxesSubplot at 0x10d65f748>"
      ]
     },
     "execution_count": 14,
     "metadata": {},
     "output_type": "execute_result"
    },
    {
     "data": {
      "image/png": "[encoded data removed]",
      "text/plain": [
       "<matplotlib.figure.Figure at 0x11829cfd0>"
      ]
     },
     "metadata": {},
     "output_type": "display_data"
    }
   ],
   "source": [
    "sns.set(rc={\"figure.figsize\": (12, 8)})\n",
    "ax = sns.kdeplot(train[7], shade=True, color=\"r\")\n",
    "sns.kdeplot(train[8], ax=ax, shade=True, color=\"b\")\n",
    "sns.kdeplot(train[9], ax=ax, shade=True, color=\"c\")\n",
    "sns.kdeplot(train[10], ax=ax, shade=True, color=\"g\")\n",
    "sns.kdeplot(train[14], ax=ax, shade=True, color=\"m\")"
   ]
  },
  {
   "cell_type": "markdown",
   "metadata": {},
   "source": [
    "#### A ce niveau de l'étude, deux hypothèses:\n",
    "#### - doit-on garder la feature 14 qui semble donner le même résultat que la 8 (mais plus lente) ?\n",
    "#### - le fait de garder les features 8, et 14 ne renforce t-il pas l'efficacité de modèle ?"
   ]
  },
  {
   "cell_type": "markdown",
   "metadata": {},
   "source": [
    "# Polynomial Kernel"
   ]
  },
  {
   "cell_type": "code",
   "execution_count": null,
   "metadata": {},
   "outputs": [],
   "source": [
    "from sklearn.pipeline import Pipeline\n",
    "from sklearn.preprocessing import StandardScaler\n",
    "from sklearn.svm import SVC\n",
    "#poly_kernel_svm_clf = Pipeline((\n",
    "    (\"Scaler\", StandardScaler()),\n",
    "    (\"svm_clf\", SVC(kernel=\"poly\", degree=2, coef0=1, C=5))\n",
    "))\n",
    "#poly_kernel_svm_clf.fit(X,y)"
   ]
  },
  {
   "cell_type": "markdown",
   "metadata": {},
   "source": [
    "#### Tentons un randomForest sur l'ensemble des données pour comparer les featureimportances_ avec les résultats obtenus plus haut. "
   ]
  },
  {
   "cell_type": "markdown",
   "metadata": {},
   "source": [
    "# Feature importance (avec Random Forest)"
   ]
  },
  {
   "cell_type": "code",
   "execution_count": 15,
   "metadata": {},
   "outputs": [
    {
     "name": "stdout",
     "output_type": "stream",
     "text": [
      "[ 0.00405581  0.02863231  0.01353637  0.00557259  0.02954927  0.06296101\n",
      "  0.09124824  0.15239237  0.11684316  0.09192661  0.01206703  0.01352528\n",
      "  0.17052291  0.20716704]\n"
     ]
    }
   ],
   "source": [
    "from sklearn.ensemble import RandomForestClassifier\n",
    "rdf = RandomForestClassifier(n_estimators=100, n_jobs=-1)\n",
    "rdf.fit(X, y)\n",
    "print(rdf.feature_importances_)"
   ]
  },
  {
   "cell_type": "markdown",
   "metadata": {},
   "source": [
    "#### Après un Random Forest avec 100 estimateurs, il semble que les features les plus importantes soient la 9, 10, 13, 14 et ensuite la 11 et 8. A cause de la contrainte de temps, il faudra ne mettre que 4 voire 5 algorithmes pour ne pas dépasser le temps maximal."
   ]
  },
  {
   "cell_type": "markdown",
   "metadata": {},
   "source": [
    "## Modèle regression KBest"
   ]
  },
  {
   "cell_type": "code",
   "execution_count": 18,
   "metadata": {},
   "outputs": [
    {
     "data": {
      "text/plain": [
       "(2048840, 5)"
      ]
     },
     "execution_count": 18,
     "metadata": {},
     "output_type": "execute_result"
    }
   ],
   "source": [
    "#Feature Selection\n",
    "from sklearn.feature_selection import SelectKBest, f_regression\n",
    "X_selected = SelectKBest(f_regression, k=5).fit_transform(X, y)\n",
    "X_selected.shape"
   ]
  },
  {
   "cell_type": "code",
   "execution_count": 21,
   "metadata": {},
   "outputs": [
    {
     "data": {
      "text/html": [
       "<div>\n",
       "<style scoped>\n",
       "    .dataframe tbody tr th:only-of-type {\n",
       "        vertical-align: middle;\n",
       "    }\n",
       "\n",
       "    .dataframe tbody tr th {\n",
       "        vertical-align: top;\n",
       "    }\n",
       "\n",
       "    .dataframe thead th {\n",
       "        text-align: right;\n",
       "    }\n",
       "</style>\n",
       "<table border=\"1\" class=\"dataframe\">\n",
       "  <thead>\n",
       "    <tr style=\"text-align: right;\">\n",
       "      <th></th>\n",
       "      <th>0</th>\n",
       "      <th>1</th>\n",
       "      <th>2</th>\n",
       "      <th>3</th>\n",
       "      <th>4</th>\n",
       "    </tr>\n",
       "  </thead>\n",
       "  <tbody>\n",
       "    <tr>\n",
       "      <th>0</th>\n",
       "      <td>4258.26</td>\n",
       "      <td>4295.81</td>\n",
       "      <td>5566.92</td>\n",
       "      <td>3534.17</td>\n",
       "      <td>4933.86</td>\n",
       "    </tr>\n",
       "    <tr>\n",
       "      <th>1</th>\n",
       "      <td>2148.12</td>\n",
       "      <td>2530.12</td>\n",
       "      <td>2397.09</td>\n",
       "      <td>1906.96</td>\n",
       "      <td>2743.85</td>\n",
       "    </tr>\n",
       "    <tr>\n",
       "      <th>2</th>\n",
       "      <td>2369.36</td>\n",
       "      <td>2320.31</td>\n",
       "      <td>2155.66</td>\n",
       "      <td>1938.28</td>\n",
       "      <td>2837.74</td>\n",
       "    </tr>\n",
       "    <tr>\n",
       "      <th>3</th>\n",
       "      <td>2297.49</td>\n",
       "      <td>2293.67</td>\n",
       "      <td>2200.40</td>\n",
       "      <td>1989.81</td>\n",
       "      <td>2548.51</td>\n",
       "    </tr>\n",
       "    <tr>\n",
       "      <th>4</th>\n",
       "      <td>1830.91</td>\n",
       "      <td>2038.94</td>\n",
       "      <td>2465.04</td>\n",
       "      <td>1617.28</td>\n",
       "      <td>2802.02</td>\n",
       "    </tr>\n",
       "  </tbody>\n",
       "</table>\n",
       "</div>"
      ],
      "text/plain": [
       "         0        1        2        3        4\n",
       "0  4258.26  4295.81  5566.92  3534.17  4933.86\n",
       "1  2148.12  2530.12  2397.09  1906.96  2743.85\n",
       "2  2369.36  2320.31  2155.66  1938.28  2837.74\n",
       "3  2297.49  2293.67  2200.40  1989.81  2548.51\n",
       "4  1830.91  2038.94  2465.04  1617.28  2802.02"
      ]
     },
     "execution_count": 21,
     "metadata": {},
     "output_type": "execute_result"
    }
   ],
   "source": [
    "X_selec = pd.DataFrame(X_selected)\n",
    "X_selec.head()"
   ]
  },
  {
   "cell_type": "markdown",
   "metadata": {},
   "source": [
    "#### En faisant une selection KBest, on se rend compte que les cinq variables qui ont le plus d'importance sont : 3, 7, 9, 11, et 13. Le choix de l'algorithme 3 est assez suprenant car il n'est jamais proposé dans les tests précédents. "
   ]
  },
  {
   "cell_type": "markdown",
   "metadata": {},
   "source": [
    "## 1) PolynomialFeatures + GradientBoosting (feature importances) sur les features 7 9 11 13"
   ]
  },
  {
   "cell_type": "code",
   "execution_count": 23,
   "metadata": {},
   "outputs": [
    {
     "data": {
      "text/plain": [
       "(2048840, 4)"
      ]
     },
     "execution_count": 23,
     "metadata": {},
     "output_type": "execute_result"
    }
   ],
   "source": [
    "X_red = np.array([X[:,7],X[:,9],X[:,11], X[:,13]]).reshape(2048840,4)\n",
    "X_red.shape"
   ]
  },
  {
   "cell_type": "code",
   "execution_count": 24,
   "metadata": {},
   "outputs": [
    {
     "name": "stdout",
     "output_type": "stream",
     "text": [
      "[ 0.          0.0240556   0.00530702  0.01258224  0.00554839  0.02470017\n",
      "  0.14570793  0.10830853  0.13714251  0.00408934  0.06836902  0.2799816\n",
      "  0.00327248  0.16537257  0.0155626 ]\n"
     ]
    }
   ],
   "source": [
    "from sklearn.linear_model import Ridge\n",
    "from sklearn.preprocessing import PolynomialFeatures\n",
    "model = PolynomialFeatures(degree=2)\n",
    "X_poly = model.fit_transform(X_red)\n",
    "from sklearn.ensemble import GradientBoostingClassifier\n",
    "gbc = GradientBoostingClassifier(n_estimators=100, max_depth= 3, learning_rate= 0.01, min_samples_leaf= 1, random_state= 3)\n",
    "gbc.fit(X_poly, y)\n",
    "print(gbc.feature_importances_)"
   ]
  },
  {
   "cell_type": "code",
   "execution_count": 25,
   "metadata": {},
   "outputs": [
    {
     "name": "stdout",
     "output_type": "stream",
     "text": [
      "['1', 'x0', 'x1', 'x2', 'x3', 'x0^2', 'x0 x1', 'x0 x2', 'x0 x3', 'x1^2', 'x1 x2', 'x1 x3', 'x2^2', 'x2 x3', 'x3^2']\n"
     ]
    }
   ],
   "source": [
    "print(model.get_feature_names())"
   ]
  },
  {
   "cell_type": "markdown",
   "metadata": {},
   "source": [
    "#### Le résultat n'est pas très bon sur le jeu de test inconnu (0,077). Reprenons les conclusions de notre étude REF, mais utilisons l'algorithme 11 à la place du 7, qui est plus rapide. On prendra donc les algorithmes 8 - 9 - 10 - 11 et 14. On fera un polynomialFeatures sur ces features puis un gradientBoosting sur ces nouvelles données pour évaluer leurs coefficients."
   ]
  },
  {
   "cell_type": "markdown",
   "metadata": {},
   "source": [
    "## 2) Polynomial_features (8, 9, 10, 11, 13) + gradientBoosting n_estimateurs=100, max_depth=3"
   ]
  },
  {
   "cell_type": "code",
   "execution_count": 39,
   "metadata": {},
   "outputs": [
    {
     "name": "stdout",
     "output_type": "stream",
     "text": [
      "[ 0.          0.00250744  0.0427856   0.0565095   0.01891753  0.01549408\n",
      "  0.00435968  0.00661072  0.0323149   0.18161163  0.0450858   0.03971496\n",
      "  0.10997437  0.16416517  0.07486212  0.03681251  0.04420713  0.05466294\n",
      "  0.01764883  0.0387213   0.01303381]\n"
     ]
    }
   ],
   "source": [
    "X_red = np.array([X[:,7],X[:,8],X[:,9], X[:,10], X[:,12]]).reshape(2048840,5)\n",
    "from sklearn.linear_model import Ridge\n",
    "from sklearn.preprocessing import PolynomialFeatures\n",
    "model = PolynomialFeatures(degree=2)\n",
    "X_poly = model.fit_transform(X_red)\n",
    "from sklearn.ensemble import GradientBoostingClassifier\n",
    "gbc = GradientBoostingClassifier(n_estimators=100, max_depth= 3, learning_rate= 0.01, min_samples_leaf= 1, random_state= 3)\n",
    "gbc.fit(X_poly, y)\n",
    "print(gbc.feature_importances_)"
   ]
  },
  {
   "cell_type": "markdown",
   "metadata": {},
   "source": [
    "#### Avec cette combinaison, le score sur le test est de 0,072, ce qui est mieux !"
   ]
  },
  {
   "cell_type": "code",
   "execution_count": 51,
   "metadata": {},
   "outputs": [
    {
     "data": {
      "text/plain": [
       "<matplotlib.axes._subplots.AxesSubplot at 0x10f6617b8>"
      ]
     },
     "execution_count": 51,
     "metadata": {},
     "output_type": "execute_result"
    },
    {
     "data": {
      "image/png": "[encoded data removed]",
      "text/plain": [
       "<matplotlib.figure.Figure at 0x10f661400>"
      ]
     },
     "metadata": {},
     "output_type": "display_data"
    }
   ],
   "source": [
    "import random\n",
    "import matplotlib.pyplot as plt\n",
    "import seaborn as sns\n",
    "sns.set(rc={\"figure.figsize\": (12, 8)})\n",
    "ax = sns.kdeplot(train[8], shade=True, color=\"r\")\n",
    "sns.kdeplot(train[9], ax=ax, shade=True, color=\"b\")\n",
    "sns.kdeplot(train[10], ax=ax, shade=True, color=\"c\")\n",
    "sns.kdeplot(train[11], ax=ax, shade=True, color=\"g\")\n",
    "sns.kdeplot(train[13], ax=ax, shade=True, color=\"m\")"
   ]
  },
  {
   "cell_type": "markdown",
   "metadata": {},
   "source": [
    "## 3) PolynomialFeatures sur 8-9-10-11-14 avec AdaBoost"
   ]
  },
  {
   "cell_type": "code",
   "execution_count": 52,
   "metadata": {},
   "outputs": [
    {
     "name": "stdout",
     "output_type": "stream",
     "text": [
      "[ 0.    0.1   0.02  0.04  0.04  0.06  0.04  0.04  0.06  0.04  0.08  0.06\n",
      "  0.04  0.1   0.    0.06  0.02  0.04  0.08  0.02  0.06]\n"
     ]
    }
   ],
   "source": [
    "X_red = np.array([X[:,7],X[:,8],X[:,9], X[:,10], X[:,13]]).reshape(2048840,5)\n",
    "from sklearn.preprocessing import PolynomialFeatures\n",
    "model = PolynomialFeatures(degree=2)\n",
    "X_poly = model.fit_transform(X_red)\n",
    "from sklearn.ensemble import AdaBoostClassifier\n",
    "ada = AdaBoostClassifier(n_estimators=50)\n",
    "ada.fit(X_poly, y)\n",
    "print(ada.feature_importances_)"
   ]
  },
  {
   "cell_type": "markdown",
   "metadata": {},
   "source": [
    "#### Le score sur le test est de 0.065, ce qui est mieux. Essayons maintenant avec une simple combinaison linéaire. "
   ]
  },
  {
   "cell_type": "markdown",
   "metadata": {},
   "source": [
    "## 3b) Adaboost sur la combinaison 8, 9, 10, 11, et 14"
   ]
  },
  {
   "cell_type": "code",
   "execution_count": 53,
   "metadata": {},
   "outputs": [
    {
     "name": "stdout",
     "output_type": "stream",
     "text": [
      "[ 0.18  0.2   0.18  0.24  0.2 ]\n"
     ]
    }
   ],
   "source": [
    "X_red = np.array([X[:,7],X[:,8],X[:,9], X[:,10], X[:,13]]).reshape(2048840,5)\n",
    "from sklearn.ensemble import AdaBoostClassifier\n",
    "ada = AdaBoostClassifier(n_estimators=50)\n",
    "ada.fit(X_red, y)\n",
    "print(ada.feature_importances_)"
   ]
  },
  {
   "cell_type": "markdown",
   "metadata": {},
   "source": [
    "#### On obtient un bon score sur le Train (0.082) mais moins bien sur le jeu de Test : 0.073. En faisant plusieurs tests sur les coefficients, je me suis rendu compte que j'étais en train d'overfitter. "
   ]
  },
  {
   "cell_type": "markdown",
   "metadata": {},
   "source": [
    "#### Le meilleur score avec cette combinaison est :\n",
    "#### M[0, 8] = 0.201 ; M[0,9] = 0.263; M[0, 10] = 0.181 ; M[0,11] = 0.131 ; M[0;14] = 0.147\n",
    "\n",
    "#### Le score est de 0.0638, ce qui est mon meilleur score. Il est possible d'avoir un meilleur score sur le train mais on est en situation d'overfit. "
   ]
  },
  {
   "cell_type": "markdown",
   "metadata": {},
   "source": [
    "## 4) Détermination de la meilleure combinaison de features minimisant le FRR"
   ]
  },
  {
   "cell_type": "markdown",
   "metadata": {},
   "source": [
    "#### Avec ce script, je vais essayer de déterminer la combinaison de features qui minimise la valeur du FRR (sous contraintes du temps de 600ms)"
   ]
  },
  {
   "cell_type": "code",
   "execution_count": 3,
   "metadata": {},
   "outputs": [
    {
     "data": {
      "text/html": [
       "<div>\n",
       "<style scoped>\n",
       "    .dataframe tbody tr th:only-of-type {\n",
       "        vertical-align: middle;\n",
       "    }\n",
       "\n",
       "    .dataframe tbody tr th {\n",
       "        vertical-align: top;\n",
       "    }\n",
       "\n",
       "    .dataframe thead th {\n",
       "        text-align: right;\n",
       "    }\n",
       "</style>\n",
       "<table border=\"1\" class=\"dataframe\">\n",
       "  <thead>\n",
       "    <tr style=\"text-align: right;\">\n",
       "      <th></th>\n",
       "      <th>Classifier</th>\n",
       "      <th>Threshold</th>\n",
       "      <th>FAR</th>\n",
       "      <th>FRR</th>\n",
       "    </tr>\n",
       "  </thead>\n",
       "  <tbody>\n",
       "    <tr>\n",
       "      <th>1088</th>\n",
       "      <td>[[7], [8], [9], [10], [13]]</td>\n",
       "      <td>22370.48</td>\n",
       "      <td>0.0001</td>\n",
       "      <td>0.082473</td>\n",
       "    </tr>\n",
       "    <tr>\n",
       "      <th>1036</th>\n",
       "      <td>[[6], [8], [9], [10], [12]]</td>\n",
       "      <td>22175.61</td>\n",
       "      <td>0.0001</td>\n",
       "      <td>0.082552</td>\n",
       "    </tr>\n",
       "    <tr>\n",
       "      <th>1087</th>\n",
       "      <td>[[7], [8], [9], [10], [12]]</td>\n",
       "      <td>22290.72</td>\n",
       "      <td>0.0001</td>\n",
       "      <td>0.082630</td>\n",
       "    </tr>\n",
       "    <tr>\n",
       "      <th>1100</th>\n",
       "      <td>[[7], [8], [10], [13]]</td>\n",
       "      <td>17903.77</td>\n",
       "      <td>0.0001</td>\n",
       "      <td>0.082748</td>\n",
       "    </tr>\n",
       "    <tr>\n",
       "      <th>1037</th>\n",
       "      <td>[[6], [8], [9], [10], [13]]</td>\n",
       "      <td>22281.68</td>\n",
       "      <td>0.0001</td>\n",
       "      <td>0.083355</td>\n",
       "    </tr>\n",
       "    <tr>\n",
       "      <th>1103</th>\n",
       "      <td>[[7], [8], [11], [13]]</td>\n",
       "      <td>18149.90</td>\n",
       "      <td>0.0001</td>\n",
       "      <td>0.083472</td>\n",
       "    </tr>\n",
       "    <tr>\n",
       "      <th>1040</th>\n",
       "      <td>[[6], [8], [9], [11], [13]]</td>\n",
       "      <td>22488.65</td>\n",
       "      <td>0.0001</td>\n",
       "      <td>0.083942</td>\n",
       "    </tr>\n",
       "    <tr>\n",
       "      <th>1052</th>\n",
       "      <td>[[6], [8], [11], [13]]</td>\n",
       "      <td>18042.13</td>\n",
       "      <td>0.0001</td>\n",
       "      <td>0.084197</td>\n",
       "    </tr>\n",
       "    <tr>\n",
       "      <th>1039</th>\n",
       "      <td>[[6], [8], [9], [11], [12]]</td>\n",
       "      <td>22431.56</td>\n",
       "      <td>0.0001</td>\n",
       "      <td>0.084471</td>\n",
       "    </tr>\n",
       "    <tr>\n",
       "      <th>1048</th>\n",
       "      <td>[[6], [8], [10], [12]]</td>\n",
       "      <td>17748.74</td>\n",
       "      <td>0.0001</td>\n",
       "      <td>0.084471</td>\n",
       "    </tr>\n",
       "    <tr>\n",
       "      <th>1049</th>\n",
       "      <td>[[6], [8], [10], [13]]</td>\n",
       "      <td>17831.53</td>\n",
       "      <td>0.0001</td>\n",
       "      <td>0.084627</td>\n",
       "    </tr>\n",
       "    <tr>\n",
       "      <th>1099</th>\n",
       "      <td>[[7], [8], [10], [12]]</td>\n",
       "      <td>17868.31</td>\n",
       "      <td>0.0001</td>\n",
       "      <td>0.084647</td>\n",
       "    </tr>\n",
       "    <tr>\n",
       "      <th>1102</th>\n",
       "      <td>[[7], [8], [11], [12]]</td>\n",
       "      <td>18091.26</td>\n",
       "      <td>0.0001</td>\n",
       "      <td>0.084666</td>\n",
       "    </tr>\n",
       "    <tr>\n",
       "      <th>1090</th>\n",
       "      <td>[[7], [8], [9], [11], [12]]</td>\n",
       "      <td>22574.96</td>\n",
       "      <td>0.0001</td>\n",
       "      <td>0.085156</td>\n",
       "    </tr>\n",
       "    <tr>\n",
       "      <th>1051</th>\n",
       "      <td>[[6], [8], [11], [12]]</td>\n",
       "      <td>17992.56</td>\n",
       "      <td>0.0001</td>\n",
       "      <td>0.085234</td>\n",
       "    </tr>\n",
       "    <tr>\n",
       "      <th>1091</th>\n",
       "      <td>[[7], [8], [9], [11], [13]]</td>\n",
       "      <td>22649.46</td>\n",
       "      <td>0.0001</td>\n",
       "      <td>0.085254</td>\n",
       "    </tr>\n",
       "    <tr>\n",
       "      <th>1113</th>\n",
       "      <td>[[7], [9], [10], [13]]</td>\n",
       "      <td>18165.73</td>\n",
       "      <td>0.0001</td>\n",
       "      <td>0.085802</td>\n",
       "    </tr>\n",
       "    <tr>\n",
       "      <th>1061</th>\n",
       "      <td>[[6], [9], [10], [12]]</td>\n",
       "      <td>17979.03</td>\n",
       "      <td>0.0001</td>\n",
       "      <td>0.086174</td>\n",
       "    </tr>\n",
       "    <tr>\n",
       "      <th>1116</th>\n",
       "      <td>[[7], [9], [11], [13]]</td>\n",
       "      <td>18407.68</td>\n",
       "      <td>0.0001</td>\n",
       "      <td>0.086350</td>\n",
       "    </tr>\n",
       "    <tr>\n",
       "      <th>1141</th>\n",
       "      <td>[[8], [9], [10], [12]]</td>\n",
       "      <td>17657.06</td>\n",
       "      <td>0.0001</td>\n",
       "      <td>0.086546</td>\n",
       "    </tr>\n",
       "    <tr>\n",
       "      <th>1162</th>\n",
       "      <td>[[8], [11], [13]]</td>\n",
       "      <td>13456.17</td>\n",
       "      <td>0.0001</td>\n",
       "      <td>0.086664</td>\n",
       "    </tr>\n",
       "    <tr>\n",
       "      <th>1062</th>\n",
       "      <td>[[6], [9], [10], [13]]</td>\n",
       "      <td>18071.93</td>\n",
       "      <td>0.0001</td>\n",
       "      <td>0.086781</td>\n",
       "    </tr>\n",
       "    <tr>\n",
       "      <th>1112</th>\n",
       "      <td>[[7], [9], [10], [12]]</td>\n",
       "      <td>18115.21</td>\n",
       "      <td>0.0001</td>\n",
       "      <td>0.086801</td>\n",
       "    </tr>\n",
       "    <tr>\n",
       "      <th>1115</th>\n",
       "      <td>[[7], [9], [11], [12]]</td>\n",
       "      <td>18339.32</td>\n",
       "      <td>0.0001</td>\n",
       "      <td>0.086918</td>\n",
       "    </tr>\n",
       "    <tr>\n",
       "      <th>1157</th>\n",
       "      <td>[[8], [10], [12]]</td>\n",
       "      <td>13173.51</td>\n",
       "      <td>0.0001</td>\n",
       "      <td>0.086997</td>\n",
       "    </tr>\n",
       "    <tr>\n",
       "      <th>1158</th>\n",
       "      <td>[[8], [10], [13]]</td>\n",
       "      <td>13246.71</td>\n",
       "      <td>0.0001</td>\n",
       "      <td>0.087036</td>\n",
       "    </tr>\n",
       "    <tr>\n",
       "      <th>1065</th>\n",
       "      <td>[[6], [9], [11], [13]]</td>\n",
       "      <td>18302.80</td>\n",
       "      <td>0.0001</td>\n",
       "      <td>0.087055</td>\n",
       "    </tr>\n",
       "    <tr>\n",
       "      <th>1038</th>\n",
       "      <td>[[6], [8], [9], [10]]</td>\n",
       "      <td>17487.61</td>\n",
       "      <td>0.0001</td>\n",
       "      <td>0.087075</td>\n",
       "    </tr>\n",
       "    <tr>\n",
       "      <th>1089</th>\n",
       "      <td>[[7], [8], [9], [10]]</td>\n",
       "      <td>17611.87</td>\n",
       "      <td>0.0001</td>\n",
       "      <td>0.087232</td>\n",
       "    </tr>\n",
       "    <tr>\n",
       "      <th>1142</th>\n",
       "      <td>[[8], [9], [10], [13]]</td>\n",
       "      <td>17726.29</td>\n",
       "      <td>0.0001</td>\n",
       "      <td>0.087525</td>\n",
       "    </tr>\n",
       "    <tr>\n",
       "      <th>...</th>\n",
       "      <td>...</td>\n",
       "      <td>...</td>\n",
       "      <td>...</td>\n",
       "      <td>...</td>\n",
       "    </tr>\n",
       "    <tr>\n",
       "      <th>315</th>\n",
       "      <td>[[1], [4], [5]]</td>\n",
       "      <td>14742.82</td>\n",
       "      <td>0.0001</td>\n",
       "      <td>0.217286</td>\n",
       "    </tr>\n",
       "    <tr>\n",
       "      <th>101</th>\n",
       "      <td>[[0], [4], [5]]</td>\n",
       "      <td>14701.28</td>\n",
       "      <td>0.0001</td>\n",
       "      <td>0.217677</td>\n",
       "    </tr>\n",
       "    <tr>\n",
       "      <th>288</th>\n",
       "      <td>[[1], [2]]</td>\n",
       "      <td>9817.85</td>\n",
       "      <td>0.0001</td>\n",
       "      <td>0.217912</td>\n",
       "    </tr>\n",
       "    <tr>\n",
       "      <th>546</th>\n",
       "      <td>[[2], [5]]</td>\n",
       "      <td>9790.09</td>\n",
       "      <td>0.0001</td>\n",
       "      <td>0.218167</td>\n",
       "    </tr>\n",
       "    <tr>\n",
       "      <th>338</th>\n",
       "      <td>[[1], [4]]</td>\n",
       "      <td>9823.01</td>\n",
       "      <td>0.0001</td>\n",
       "      <td>0.218421</td>\n",
       "    </tr>\n",
       "    <tr>\n",
       "      <th>100</th>\n",
       "      <td>[[0], [3]]</td>\n",
       "      <td>9837.28</td>\n",
       "      <td>0.0001</td>\n",
       "      <td>0.218735</td>\n",
       "    </tr>\n",
       "    <tr>\n",
       "      <th>4</th>\n",
       "      <td>[[0], [1], [2]]</td>\n",
       "      <td>14746.19</td>\n",
       "      <td>0.0001</td>\n",
       "      <td>0.219107</td>\n",
       "    </tr>\n",
       "    <tr>\n",
       "      <th>476</th>\n",
       "      <td>[[2], [3], [4]]</td>\n",
       "      <td>14672.19</td>\n",
       "      <td>0.0001</td>\n",
       "      <td>0.219224</td>\n",
       "    </tr>\n",
       "    <tr>\n",
       "      <th>48</th>\n",
       "      <td>[[0], [2], [3]]</td>\n",
       "      <td>14718.27</td>\n",
       "      <td>0.0001</td>\n",
       "      <td>0.219479</td>\n",
       "    </tr>\n",
       "    <tr>\n",
       "      <th>361</th>\n",
       "      <td>[[1], [5]]</td>\n",
       "      <td>9888.94</td>\n",
       "      <td>0.0001</td>\n",
       "      <td>0.220086</td>\n",
       "    </tr>\n",
       "    <tr>\n",
       "      <th>124</th>\n",
       "      <td>[[0], [4]]</td>\n",
       "      <td>9798.87</td>\n",
       "      <td>0.0001</td>\n",
       "      <td>0.220810</td>\n",
       "    </tr>\n",
       "    <tr>\n",
       "      <th>9</th>\n",
       "      <td>[[0], [1], [3]]</td>\n",
       "      <td>14819.05</td>\n",
       "      <td>0.0001</td>\n",
       "      <td>0.220986</td>\n",
       "    </tr>\n",
       "    <tr>\n",
       "      <th>147</th>\n",
       "      <td>[[0], [5]]</td>\n",
       "      <td>9871.81</td>\n",
       "      <td>0.0001</td>\n",
       "      <td>0.224198</td>\n",
       "    </tr>\n",
       "    <tr>\n",
       "      <th>262</th>\n",
       "      <td>[[1], [2], [3]]</td>\n",
       "      <td>14801.99</td>\n",
       "      <td>0.0001</td>\n",
       "      <td>0.224276</td>\n",
       "    </tr>\n",
       "    <tr>\n",
       "      <th>477</th>\n",
       "      <td>[[2], [3], [5]]</td>\n",
       "      <td>14766.93</td>\n",
       "      <td>0.0001</td>\n",
       "      <td>0.224393</td>\n",
       "    </tr>\n",
       "    <tr>\n",
       "      <th>10</th>\n",
       "      <td>[[0], [1], [4]]</td>\n",
       "      <td>14795.79</td>\n",
       "      <td>0.0001</td>\n",
       "      <td>0.224609</td>\n",
       "    </tr>\n",
       "    <tr>\n",
       "      <th>11</th>\n",
       "      <td>[[0], [1], [5]]</td>\n",
       "      <td>14878.30</td>\n",
       "      <td>0.0001</td>\n",
       "      <td>0.228505</td>\n",
       "    </tr>\n",
       "    <tr>\n",
       "      <th>807</th>\n",
       "      <td>[[4], [5]]</td>\n",
       "      <td>9859.13</td>\n",
       "      <td>0.0001</td>\n",
       "      <td>0.231110</td>\n",
       "    </tr>\n",
       "    <tr>\n",
       "      <th>901</th>\n",
       "      <td>[[4]]</td>\n",
       "      <td>4906.89</td>\n",
       "      <td>0.0001</td>\n",
       "      <td>0.231110</td>\n",
       "    </tr>\n",
       "    <tr>\n",
       "      <th>995</th>\n",
       "      <td>[[5]]</td>\n",
       "      <td>4952.24</td>\n",
       "      <td>0.0001</td>\n",
       "      <td>0.231110</td>\n",
       "    </tr>\n",
       "    <tr>\n",
       "      <th>475</th>\n",
       "      <td>[[1]]</td>\n",
       "      <td>5029.01</td>\n",
       "      <td>0.0001</td>\n",
       "      <td>0.253079</td>\n",
       "    </tr>\n",
       "    <tr>\n",
       "      <th>261</th>\n",
       "      <td>[[0]]</td>\n",
       "      <td>5023.26</td>\n",
       "      <td>0.0001</td>\n",
       "      <td>0.253079</td>\n",
       "    </tr>\n",
       "    <tr>\n",
       "      <th>47</th>\n",
       "      <td>[[0], [1]]</td>\n",
       "      <td>10052.27</td>\n",
       "      <td>0.0001</td>\n",
       "      <td>0.253079</td>\n",
       "    </tr>\n",
       "    <tr>\n",
       "      <th>792</th>\n",
       "      <td>[[3]]</td>\n",
       "      <td>5032.16</td>\n",
       "      <td>0.0001</td>\n",
       "      <td>0.255899</td>\n",
       "    </tr>\n",
       "    <tr>\n",
       "      <th>500</th>\n",
       "      <td>[[2], [3]]</td>\n",
       "      <td>10060.26</td>\n",
       "      <td>0.0001</td>\n",
       "      <td>0.255899</td>\n",
       "    </tr>\n",
       "    <tr>\n",
       "      <th>646</th>\n",
       "      <td>[[2]]</td>\n",
       "      <td>5028.10</td>\n",
       "      <td>0.0001</td>\n",
       "      <td>0.255899</td>\n",
       "    </tr>\n",
       "    <tr>\n",
       "      <th>1187</th>\n",
       "      <td>[[10], [11]]</td>\n",
       "      <td>9929.23</td>\n",
       "      <td>0.0001</td>\n",
       "      <td>0.313035</td>\n",
       "    </tr>\n",
       "    <tr>\n",
       "      <th>1191</th>\n",
       "      <td>[[10]]</td>\n",
       "      <td>4949.00</td>\n",
       "      <td>0.0001</td>\n",
       "      <td>0.313035</td>\n",
       "    </tr>\n",
       "    <tr>\n",
       "      <th>1195</th>\n",
       "      <td>[[11]]</td>\n",
       "      <td>4980.23</td>\n",
       "      <td>0.0001</td>\n",
       "      <td>0.313035</td>\n",
       "    </tr>\n",
       "    <tr>\n",
       "      <th>1199</th>\n",
       "      <td>[]</td>\n",
       "      <td>0.00</td>\n",
       "      <td>0.0001</td>\n",
       "      <td>0.998903</td>\n",
       "    </tr>\n",
       "  </tbody>\n",
       "</table>\n",
       "<p>1200 rows × 4 columns</p>\n",
       "</div>"
      ],
      "text/plain": [
       "                       Classifier  Threshold     FAR       FRR\n",
       "1088  [[7], [8], [9], [10], [13]]   22370.48  0.0001  0.082473\n",
       "1036  [[6], [8], [9], [10], [12]]   22175.61  0.0001  0.082552\n",
       "1087  [[7], [8], [9], [10], [12]]   22290.72  0.0001  0.082630\n",
       "1100       [[7], [8], [10], [13]]   17903.77  0.0001  0.082748\n",
       "1037  [[6], [8], [9], [10], [13]]   22281.68  0.0001  0.083355\n",
       "1103       [[7], [8], [11], [13]]   18149.90  0.0001  0.083472\n",
       "1040  [[6], [8], [9], [11], [13]]   22488.65  0.0001  0.083942\n",
       "1052       [[6], [8], [11], [13]]   18042.13  0.0001  0.084197\n",
       "1039  [[6], [8], [9], [11], [12]]   22431.56  0.0001  0.084471\n",
       "1048       [[6], [8], [10], [12]]   17748.74  0.0001  0.084471\n",
       "1049       [[6], [8], [10], [13]]   17831.53  0.0001  0.084627\n",
       "1099       [[7], [8], [10], [12]]   17868.31  0.0001  0.084647\n",
       "1102       [[7], [8], [11], [12]]   18091.26  0.0001  0.084666\n",
       "1090  [[7], [8], [9], [11], [12]]   22574.96  0.0001  0.085156\n",
       "1051       [[6], [8], [11], [12]]   17992.56  0.0001  0.085234\n",
       "1091  [[7], [8], [9], [11], [13]]   22649.46  0.0001  0.085254\n",
       "1113       [[7], [9], [10], [13]]   18165.73  0.0001  0.085802\n",
       "1061       [[6], [9], [10], [12]]   17979.03  0.0001  0.086174\n",
       "1116       [[7], [9], [11], [13]]   18407.68  0.0001  0.086350\n",
       "1141       [[8], [9], [10], [12]]   17657.06  0.0001  0.086546\n",
       "1162            [[8], [11], [13]]   13456.17  0.0001  0.086664\n",
       "1062       [[6], [9], [10], [13]]   18071.93  0.0001  0.086781\n",
       "1112       [[7], [9], [10], [12]]   18115.21  0.0001  0.086801\n",
       "1115       [[7], [9], [11], [12]]   18339.32  0.0001  0.086918\n",
       "1157            [[8], [10], [12]]   13173.51  0.0001  0.086997\n",
       "1158            [[8], [10], [13]]   13246.71  0.0001  0.087036\n",
       "1065       [[6], [9], [11], [13]]   18302.80  0.0001  0.087055\n",
       "1038        [[6], [8], [9], [10]]   17487.61  0.0001  0.087075\n",
       "1089        [[7], [8], [9], [10]]   17611.87  0.0001  0.087232\n",
       "1142       [[8], [9], [10], [13]]   17726.29  0.0001  0.087525\n",
       "...                           ...        ...     ...       ...\n",
       "315               [[1], [4], [5]]   14742.82  0.0001  0.217286\n",
       "101               [[0], [4], [5]]   14701.28  0.0001  0.217677\n",
       "288                    [[1], [2]]    9817.85  0.0001  0.217912\n",
       "546                    [[2], [5]]    9790.09  0.0001  0.218167\n",
       "338                    [[1], [4]]    9823.01  0.0001  0.218421\n",
       "100                    [[0], [3]]    9837.28  0.0001  0.218735\n",
       "4                 [[0], [1], [2]]   14746.19  0.0001  0.219107\n",
       "476               [[2], [3], [4]]   14672.19  0.0001  0.219224\n",
       "48                [[0], [2], [3]]   14718.27  0.0001  0.219479\n",
       "361                    [[1], [5]]    9888.94  0.0001  0.220086\n",
       "124                    [[0], [4]]    9798.87  0.0001  0.220810\n",
       "9                 [[0], [1], [3]]   14819.05  0.0001  0.220986\n",
       "147                    [[0], [5]]    9871.81  0.0001  0.224198\n",
       "262               [[1], [2], [3]]   14801.99  0.0001  0.224276\n",
       "477               [[2], [3], [5]]   14766.93  0.0001  0.224393\n",
       "10                [[0], [1], [4]]   14795.79  0.0001  0.224609\n",
       "11                [[0], [1], [5]]   14878.30  0.0001  0.228505\n",
       "807                    [[4], [5]]    9859.13  0.0001  0.231110\n",
       "901                         [[4]]    4906.89  0.0001  0.231110\n",
       "995                         [[5]]    4952.24  0.0001  0.231110\n",
       "475                         [[1]]    5029.01  0.0001  0.253079\n",
       "261                         [[0]]    5023.26  0.0001  0.253079\n",
       "47                     [[0], [1]]   10052.27  0.0001  0.253079\n",
       "792                         [[3]]    5032.16  0.0001  0.255899\n",
       "500                    [[2], [3]]   10060.26  0.0001  0.255899\n",
       "646                         [[2]]    5028.10  0.0001  0.255899\n",
       "1187                 [[10], [11]]    9929.23  0.0001  0.313035\n",
       "1191                       [[10]]    4949.00  0.0001  0.313035\n",
       "1195                       [[11]]    4980.23  0.0001  0.313035\n",
       "1199                           []       0.00  0.0001  0.998903\n",
       "\n",
       "[1200 rows x 4 columns]"
      ]
     },
     "execution_count": 3,
     "metadata": {},
     "output_type": "execute_result"
    }
   ],
   "source": [
    "from itertools import product\n",
    "train_fname = 'train15_telecom.txt'\n",
    "train_data = np.loadtxt(train_fname, dtype=np.float)\n",
    "y = train_data[:,0]\n",
    "S = train_data[:,1:]\n",
    "\n",
    "a = [[True, False], [True, False], [True, False], [True, False], [True, False], [True, False], [True, False], [\n",
    "  True, False], [True, False], [True, False], [True, False], [True, False], [True, False], [True, False]]\n",
    "\n",
    "pd_analysis_frr = pd.DataFrame(columns=['Classifier', 'Threshold', 'FAR', 'FRR'])\n",
    "\n",
    "for combo in product(*a):\n",
    "  total = np.sum(alg_times[np.array(combo)])\n",
    "  if total < alg_time_thr:\n",
    "      x = np.sum(S[:, np.array(combo)], axis=1)\n",
    "      fuse = np.c_[y, x]\n",
    "      thr, fa, fr = compute_eval(fuse)\n",
    "      row = {'Classifier': np.argwhere(np.array(combo)==1), 'Threshold': thr, 'FAR': fa, 'FRR': fr}\n",
    "      pd_analysis_frr = pd_analysis_frr.append(row, ignore_index=True)\n",
    "     \n",
    "pd_analysis_frr.sort_values(by=['FRR'], ascending=[True])"
   ]
  },
  {
   "cell_type": "markdown",
   "metadata": {},
   "source": [
    "#### On cherche parmi toutes les combinaisons possibles (entre les 14 features) celle qui minimise la valeur du FRR. Forcèment à cause de la contrainte de temps, on se limite à un maximum de 5 features. \n",
    "#### D'après ce test, la meilleure combinaison est la 8 - 9  - 10 -11 - 14. Pour trouver les coefficients, on peut chercher les feature_importances mais ça a été déjà fait plus haut. "
   ]
  },
  {
   "cell_type": "markdown",
   "metadata": {},
   "source": [
    "## 5) Méthode Voting Classifier - Déterminer le meilleur classifier"
   ]
  },
  {
   "cell_type": "code",
   "execution_count": 10,
   "metadata": {},
   "outputs": [
    {
     "name": "stdout",
     "output_type": "stream",
     "text": [
      "Roc AUC:  0.547844821038\n"
     ]
    }
   ],
   "source": [
    "import numpy as np\n",
    "from sklearn.metrics import roc_auc_score\n",
    "from sklearn.ensemble import ExtraTreesClassifier, RandomForestClassifier,VotingClassifier,AdaBoostClassifier,GradientBoostingClassifier\n",
    "X_red = np.array([X[:,7],X[:,8],X[:,9], X[:,10], X[:,13]]).reshape(2048840,5)\n",
    "clf1 = AdaBoostClassifier(n_estimators=100)\n",
    "clf2 = ExtraTreesClassifier(n_estimators=100, n_jobs=-1, criterion='gini',max_depth=5)\n",
    "clf3 = GradientBoostingClassifier(n_estimators=100)\n",
    "eclf = VotingClassifier(estimators=[('ab', clf1), ('etc', clf2), ('gbc', clf3)], weights=[1,1,1], voting='soft')\n",
    "eclf = eclf.fit(X_red, y)\n",
    "# calculate the auc score\n",
    "print(\"Roc AUC: \", roc_auc_score(y, eclf.predict_proba(X_red)[:,1],\n",
    "              average='macro'))"
   ]
  },
  {
   "cell_type": "code",
   "execution_count": 11,
   "metadata": {},
   "outputs": [
    {
     "name": "stdout",
     "output_type": "stream",
     "text": [
      "AdaBoostClassifier 0.975074676402\n",
      "ExtraTreesClassifier 0.975074676402\n",
      "GradientBoostingClassifier 0.975104449347\n",
      "VotingClassifier 0.975074676402\n"
     ]
    }
   ],
   "source": [
    "from sklearn.metrics import accuracy_score\n",
    "\n",
    "for clf in (clf1, clf2, clf3, eclf):\n",
    "    clf.fit(X_red, y)\n",
    "    y_pred = clf.predict(X_red)\n",
    "    print(clf.__class__.__name__, accuracy_score(y, y_pred))"
   ]
  },
  {
   "cell_type": "markdown",
   "metadata": {},
   "source": [
    "#### Les différents classifiers donnent des résultats similaires. "
   ]
  },
  {
   "cell_type": "code",
   "execution_count": 54,
   "metadata": {},
   "outputs": [
    {
     "name": "stdout",
     "output_type": "stream",
     "text": [
      "539.0\n",
      "The total running time of the fusion is acceptable!\n"
     ]
    }
   ],
   "source": [
    "#Prepare a fusion matrix\n",
    "M = np.zeros((15,15))\n",
    "#M = np.random.rand(15,15)\n",
    "#Example: the matrix will only average the first and the third algorithms:\n",
    "M[0, 8] = 0.18\n",
    "M[0,9] = 0.2\n",
    "M[0, 10] = 0.18\n",
    "M[0, 11] = 0.24\n",
    "M[0,14] = 0.2\n",
    "\n",
    "\n",
    "#Example: Make the fusion for the first image pair:\n",
    "#cur_s = s_trn[0]\n",
    "#cur_s_hat = np.dot(cur_s.T,np.dot(M,cur_s)) \n",
    "\n",
    "#Check if the time constraint is satisfied:\n",
    "tot_dur = compute_total_time(M)\n",
    "print (tot_dur)\n",
    "\n",
    "if(tot_dur <= alg_time_thr):\n",
    "    print (\"The total running time of the fusion is acceptable!\")\n",
    "else:\n",
    "    print (\"The total running time of the fusion is NOT acceptable!\")\n"
   ]
  },
  {
   "cell_type": "code",
   "execution_count": 55,
   "metadata": {},
   "outputs": [
    {
     "name": "stderr",
     "output_type": "stream",
     "text": [
      "/usr/local/lib/python3.6/site-packages/ipykernel_launcher.py:4: RuntimeWarning: invalid value encountered in multiply\n",
      "  after removing the cwd from sys.path.\n"
     ]
    },
    {
     "name": "stdout",
     "output_type": "stream",
     "text": [
      "Score at FAR=0.01%\n",
      "threshold : 4455.2124 far : 9.9610468009e-05 frr : 0.0823755164379\n"
     ]
    }
   ],
   "source": [
    "#Evaluation\n",
    "look_at_FAR = 0.0001\n",
    "#apply fusion on scores  \n",
    "fuse = np.multiply(s_trn[:,None,:]*s_trn[:,:,None], M)\n",
    "fuse = np.concatenate([np.reshape(y_trn, [-1,1]), np.reshape(np.sum(fuse, axis=(1,2)), [-1,1])], axis=1)\n",
    "fuse[np.isnan(fuse)]=-float(\"inf\")\n",
    "\n",
    "#compute the FRR at FAR = 0.01%\n",
    "thr, fa, fr = compute_eval(fuse)\n",
    "\n",
    "print (\"Score at FAR=\"+str(look_at_FAR*100.0)+\"%\")\n",
    "print (\"threshold :\", thr, \"far :\",fa, \"frr :\", fr)\n"
   ]
  },
  {
   "cell_type": "code",
   "execution_count": 56,
   "metadata": {},
   "outputs": [],
   "source": [
    "#Submission\n",
    "\n",
    "#Write the matrix M to the disk:\n",
    "np.savetxt('M_pred.txt', M, fmt='%f')"
   ]
  },
  {
   "cell_type": "markdown",
   "metadata": {},
   "source": [
    "## Conclusion"
   ]
  },
  {
   "cell_type": "markdown",
   "metadata": {},
   "source": [
    "#### Ce challenge était intéressant car il nous a permis de voir des concepts différents comme la sélection de features. Le problème n'était pas évident à prendre en main, trouver dans quelle direction aller. En conclusion, le meilleur score a été obtenu avec un modèle de combinsaisons linéaires, ce qui est assez surprenant. Je pensais que le fait de prendre un polynomial_features avec interactions quadratiques donnerait de meilleurs scores, ce qui n'a pas été le cas. Je pense que ma combinaison n'était pas forcèment la meilleure puisque d'autres candidats ont obtenus de meilleurs scores. "
   ]
  }
 ],
 "metadata": {
  "kernelspec": {
   "display_name": "Python 3",
   "language": "python",
   "name": "python3"
  },
  "language_info": {
   "codemirror_mode": {
    "name": "ipython",
    "version": 3
   },
   "file_extension": ".py",
   "mimetype": "text/x-python",
   "name": "python",
   "nbconvert_exporter": "python",
   "pygments_lexer": "ipython3",
   "version": "3.6.3"
  }
 },
 "nbformat": 4,
 "nbformat_minor": 2
}
